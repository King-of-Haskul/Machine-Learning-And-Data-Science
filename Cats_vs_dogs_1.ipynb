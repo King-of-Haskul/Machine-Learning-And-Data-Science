{
  "nbformat": 4,
  "nbformat_minor": 5,
  "metadata": {
    "kernelspec": {
      "display_name": "Python 3",
      "language": "python",
      "name": "python3"
    },
    "language_info": {
      "codemirror_mode": {
        "name": "ipython",
        "version": 3
      },
      "file_extension": ".py",
      "mimetype": "text/x-python",
      "name": "python",
      "nbconvert_exporter": "python",
      "pygments_lexer": "ipython3",
      "version": "3.8.8"
    },
    "colab": {
      "name": "Cats_vs_dogs_1.ipynb",
      "provenance": [],
      "include_colab_link": true
    }
  },
  "cells": [
    {
      "cell_type": "markdown",
      "metadata": {
        "id": "view-in-github",
        "colab_type": "text"
      },
      "source": [
        "<a href=\"https://colab.research.google.com/github/King-of-Haskul/Machine-Learning-And-Data-Science/blob/main/Cats_vs_dogs_1.ipynb\" target=\"_parent\"><img src=\"https://colab.research.google.com/assets/colab-badge.svg\" alt=\"Open In Colab\"/></a>"
      ]
    },
    {
      "cell_type": "code",
      "metadata": {
        "id": "wrong-gallery"
      },
      "source": [
        "import os\n",
        "base_dir = '/Users/pc/Downloads/cats_and_dog_small'\n",
        "train_dir = os.path.join(base_dir, 'train')\n",
        "validation_dir = os.path.join(base_dir, 'validation')\n",
        "test_dir = os.path.join(base_dir, 'test')"
      ],
      "id": "wrong-gallery",
      "execution_count": null,
      "outputs": []
    },
    {
      "cell_type": "markdown",
      "metadata": {
        "id": "approved-airfare"
      },
      "source": [
        "### Feature Extraction using VGG16"
      ],
      "id": "approved-airfare"
    },
    {
      "cell_type": "code",
      "metadata": {
        "id": "limited-institution",
        "outputId": "9dce8a70-18ec-49c2-c3fc-4fa8e12fdeb5"
      },
      "source": [
        "from tensorflow.keras.applications import VGG16\n",
        "\n",
        "conv_base = VGG16(weights='imagenet',  #specifies the weight checkpoint from whcih to initialize the model\n",
        "                 include_top=False,  #not including the densely connected classifier on top\n",
        "                 input_shape=(150,150,3))\n",
        "\n",
        "conv_base.summary()"
      ],
      "id": "limited-institution",
      "execution_count": null,
      "outputs": [
        {
          "output_type": "stream",
          "text": [
            "Downloading data from https://storage.googleapis.com/tensorflow/keras-applications/vgg16/vgg16_weights_tf_dim_ordering_tf_kernels_notop.h5\n",
            "58892288/58889256 [==============================] - 183s 3us/step\n",
            "Model: \"vgg16\"\n",
            "_________________________________________________________________\n",
            "Layer (type)                 Output Shape              Param #   \n",
            "=================================================================\n",
            "input_1 (InputLayer)         [(None, 150, 150, 3)]     0         \n",
            "_________________________________________________________________\n",
            "block1_conv1 (Conv2D)        (None, 150, 150, 64)      1792      \n",
            "_________________________________________________________________\n",
            "block1_conv2 (Conv2D)        (None, 150, 150, 64)      36928     \n",
            "_________________________________________________________________\n",
            "block1_pool (MaxPooling2D)   (None, 75, 75, 64)        0         \n",
            "_________________________________________________________________\n",
            "block2_conv1 (Conv2D)        (None, 75, 75, 128)       73856     \n",
            "_________________________________________________________________\n",
            "block2_conv2 (Conv2D)        (None, 75, 75, 128)       147584    \n",
            "_________________________________________________________________\n",
            "block2_pool (MaxPooling2D)   (None, 37, 37, 128)       0         \n",
            "_________________________________________________________________\n",
            "block3_conv1 (Conv2D)        (None, 37, 37, 256)       295168    \n",
            "_________________________________________________________________\n",
            "block3_conv2 (Conv2D)        (None, 37, 37, 256)       590080    \n",
            "_________________________________________________________________\n",
            "block3_conv3 (Conv2D)        (None, 37, 37, 256)       590080    \n",
            "_________________________________________________________________\n",
            "block3_pool (MaxPooling2D)   (None, 18, 18, 256)       0         \n",
            "_________________________________________________________________\n",
            "block4_conv1 (Conv2D)        (None, 18, 18, 512)       1180160   \n",
            "_________________________________________________________________\n",
            "block4_conv2 (Conv2D)        (None, 18, 18, 512)       2359808   \n",
            "_________________________________________________________________\n",
            "block4_conv3 (Conv2D)        (None, 18, 18, 512)       2359808   \n",
            "_________________________________________________________________\n",
            "block4_pool (MaxPooling2D)   (None, 9, 9, 512)         0         \n",
            "_________________________________________________________________\n",
            "block5_conv1 (Conv2D)        (None, 9, 9, 512)         2359808   \n",
            "_________________________________________________________________\n",
            "block5_conv2 (Conv2D)        (None, 9, 9, 512)         2359808   \n",
            "_________________________________________________________________\n",
            "block5_conv3 (Conv2D)        (None, 9, 9, 512)         2359808   \n",
            "_________________________________________________________________\n",
            "block5_pool (MaxPooling2D)   (None, 4, 4, 512)         0         \n",
            "=================================================================\n",
            "Total params: 14,714,688\n",
            "Trainable params: 14,714,688\n",
            "Non-trainable params: 0\n",
            "_________________________________________________________________\n"
          ],
          "name": "stdout"
        }
      ]
    },
    {
      "cell_type": "markdown",
      "metadata": {
        "id": "upset-dublin"
      },
      "source": [
        "#### Fast Feature Extraction without Data Augmentation"
      ],
      "id": "upset-dublin"
    },
    {
      "cell_type": "code",
      "metadata": {
        "id": "technical-region"
      },
      "source": [
        "import numpy as np\n",
        "from tensorflow.keras.preprocessing.image import ImageDataGenerator\n",
        "\n",
        "datagen = ImageDataGenerator(rescale=1./255)\n",
        "batch_size = 20\n",
        "\n",
        "def extract_features(directory, sample_count):\n",
        "    features = np.zeros(shape=(sample_count, 4, 4, 512)) #Shape as defined by the final feautre map of VGG16 Convolutional base\n",
        "    labels = np.zeros(shape=(sample_count))\n",
        "    generator = datagen.flow_from_directory(\n",
        "        directory,\n",
        "        target_size =(150,150),\n",
        "        batch_size=batch_size,\n",
        "        class_mode='binary')\n",
        "    i = 0\n",
        "    for inputs_batch, labels_batch in generator:\n",
        "        features_batch = conv_base.predict(inputs_batch)\n",
        "        features[i*batch_size : (i+1)*batch_size] = features_batch\n",
        "        labels[i*batch_size : (i+1)*batch_size] = labels_batch\n",
        "        i += 1\n",
        "        if i*batch_size >= sample_count:\n",
        "            break  #break loop after every image has been seen once.\n",
        "    return features, labels"
      ],
      "id": "technical-region",
      "execution_count": null,
      "outputs": []
    },
    {
      "cell_type": "code",
      "metadata": {
        "id": "lesser-coast",
        "outputId": "5ff6533a-7c9f-4c00-effd-659390bf0133"
      },
      "source": [
        "train_features, train_labels = extract_features(train_dir, 2000)\n",
        "validation_features, validation_labels = extract_features(validation_dir, 1000)\n",
        "test_features, test_labels = extract_features(test_dir, 1000)"
      ],
      "id": "lesser-coast",
      "execution_count": null,
      "outputs": [
        {
          "output_type": "stream",
          "text": [
            "Found 2000 images belonging to 2 classes.\n",
            "Found 1000 images belonging to 2 classes.\n",
            "Found 1000 images belonging to 2 classes.\n"
          ],
          "name": "stdout"
        }
      ]
    },
    {
      "cell_type": "code",
      "metadata": {
        "id": "following-development"
      },
      "source": [
        "train_features = np.reshape(train_features, (2000, 4*4*512))\n",
        "validation_features = np.reshape(validation_features, (1000, 4*4*512))\n",
        "test_features = np.reshape(test_features, (1000, 4*4*512))"
      ],
      "id": "following-development",
      "execution_count": null,
      "outputs": []
    },
    {
      "cell_type": "markdown",
      "metadata": {
        "id": "middle-ability"
      },
      "source": [
        "Defining and training the densely connected classifier on the extracted features"
      ],
      "id": "middle-ability"
    },
    {
      "cell_type": "code",
      "metadata": {
        "id": "crucial-settle",
        "outputId": "94f8e9e8-003d-4399-c6ed-4434c1f58c0f"
      },
      "source": [
        "from tensorflow.keras import models\n",
        "from tensorflow.keras import layers\n",
        "from tensorflow.keras import optimizers\n",
        "\n",
        "model = models.Sequential()\n",
        "model.add(layers.Dense(256, activation='relu', input_dim=4*4*512))\n",
        "model.add(layers.Dropout(0.5)) #Adding dropout for regularization\n",
        "model.add(layers.Dense(1, activation='sigmoid'))\n",
        "\n",
        "model.compile(optimizer=optimizers.RMSprop(learning_rate=2e-5),\n",
        "             loss='binary_crossentropy',\n",
        "             metrics=['accuracy'])\n",
        "\n",
        "history = model.fit(train_features, train_labels, epochs=30, batch_size=20, validation_data=(validation_features, validation_labels))"
      ],
      "id": "crucial-settle",
      "execution_count": null,
      "outputs": [
        {
          "output_type": "stream",
          "text": [
            "Epoch 1/30\n",
            "100/100 [==============================] - 2s 22ms/step - loss: 0.6064 - accuracy: 0.6605 - val_loss: 0.4463 - val_accuracy: 0.8280\n",
            "Epoch 2/30\n",
            "100/100 [==============================] - 2s 21ms/step - loss: 0.4399 - accuracy: 0.7890 - val_loss: 0.3662 - val_accuracy: 0.8620\n",
            "Epoch 3/30\n",
            "100/100 [==============================] - 2s 21ms/step - loss: 0.3594 - accuracy: 0.8510 - val_loss: 0.3271 - val_accuracy: 0.8770\n",
            "Epoch 4/30\n",
            "100/100 [==============================] - 2s 21ms/step - loss: 0.3205 - accuracy: 0.8640 - val_loss: 0.3047 - val_accuracy: 0.8800\n",
            "Epoch 5/30\n",
            "100/100 [==============================] - 2s 21ms/step - loss: 0.2836 - accuracy: 0.8890 - val_loss: 0.2873 - val_accuracy: 0.8880\n",
            "Epoch 6/30\n",
            "100/100 [==============================] - 2s 21ms/step - loss: 0.2661 - accuracy: 0.8910 - val_loss: 0.2750 - val_accuracy: 0.8890\n",
            "Epoch 7/30\n",
            "100/100 [==============================] - 2s 22ms/step - loss: 0.2554 - accuracy: 0.8950 - val_loss: 0.2773 - val_accuracy: 0.8840\n",
            "Epoch 8/30\n",
            "100/100 [==============================] - 2s 21ms/step - loss: 0.2347 - accuracy: 0.9085 - val_loss: 0.2620 - val_accuracy: 0.8930\n",
            "Epoch 9/30\n",
            "100/100 [==============================] - 2s 21ms/step - loss: 0.2262 - accuracy: 0.9125 - val_loss: 0.2572 - val_accuracy: 0.8920\n",
            "Epoch 10/30\n",
            "100/100 [==============================] - 2s 22ms/step - loss: 0.2198 - accuracy: 0.9195 - val_loss: 0.2586 - val_accuracy: 0.8870\n",
            "Epoch 11/30\n",
            "100/100 [==============================] - 2s 22ms/step - loss: 0.2032 - accuracy: 0.9220 - val_loss: 0.2517 - val_accuracy: 0.8920\n",
            "Epoch 12/30\n",
            "100/100 [==============================] - 2s 22ms/step - loss: 0.1910 - accuracy: 0.9300 - val_loss: 0.2450 - val_accuracy: 0.9050\n",
            "Epoch 13/30\n",
            "100/100 [==============================] - 2s 22ms/step - loss: 0.1811 - accuracy: 0.9345 - val_loss: 0.2467 - val_accuracy: 0.8950\n",
            "Epoch 14/30\n",
            "100/100 [==============================] - 2s 22ms/step - loss: 0.1731 - accuracy: 0.9380 - val_loss: 0.2479 - val_accuracy: 0.8930\n",
            "Epoch 15/30\n",
            "100/100 [==============================] - 2s 22ms/step - loss: 0.1626 - accuracy: 0.9430 - val_loss: 0.2475 - val_accuracy: 0.8930\n",
            "Epoch 16/30\n",
            "100/100 [==============================] - 2s 22ms/step - loss: 0.1559 - accuracy: 0.9470 - val_loss: 0.2397 - val_accuracy: 0.9000\n",
            "Epoch 17/30\n",
            "100/100 [==============================] - 2s 22ms/step - loss: 0.1539 - accuracy: 0.9450 - val_loss: 0.2376 - val_accuracy: 0.9030\n",
            "Epoch 18/30\n",
            "100/100 [==============================] - 2s 22ms/step - loss: 0.1410 - accuracy: 0.9535 - val_loss: 0.2370 - val_accuracy: 0.9060\n",
            "Epoch 19/30\n",
            "100/100 [==============================] - 2s 22ms/step - loss: 0.1374 - accuracy: 0.9530 - val_loss: 0.2384 - val_accuracy: 0.9010\n",
            "Epoch 20/30\n",
            "100/100 [==============================] - 2s 22ms/step - loss: 0.1301 - accuracy: 0.9575 - val_loss: 0.2586 - val_accuracy: 0.8930\n",
            "Epoch 21/30\n",
            "100/100 [==============================] - 2s 23ms/step - loss: 0.1239 - accuracy: 0.9580 - val_loss: 0.2422 - val_accuracy: 0.9020\n",
            "Epoch 22/30\n",
            "100/100 [==============================] - 2s 24ms/step - loss: 0.1215 - accuracy: 0.9615 - val_loss: 0.2368 - val_accuracy: 0.9020\n",
            "Epoch 23/30\n",
            "100/100 [==============================] - 2s 24ms/step - loss: 0.1198 - accuracy: 0.9605 - val_loss: 0.2490 - val_accuracy: 0.8960\n",
            "Epoch 24/30\n",
            "100/100 [==============================] - 2s 23ms/step - loss: 0.1141 - accuracy: 0.9615 - val_loss: 0.2382 - val_accuracy: 0.9010\n",
            "Epoch 25/30\n",
            "100/100 [==============================] - 2s 23ms/step - loss: 0.1078 - accuracy: 0.9655 - val_loss: 0.2372 - val_accuracy: 0.9020\n",
            "Epoch 26/30\n",
            "100/100 [==============================] - 2s 22ms/step - loss: 0.1073 - accuracy: 0.9645 - val_loss: 0.2393 - val_accuracy: 0.9000\n",
            "Epoch 27/30\n",
            "100/100 [==============================] - 2s 22ms/step - loss: 0.1040 - accuracy: 0.9665 - val_loss: 0.2379 - val_accuracy: 0.8990\n",
            "Epoch 28/30\n",
            "100/100 [==============================] - 2s 22ms/step - loss: 0.1006 - accuracy: 0.9715 - val_loss: 0.2399 - val_accuracy: 0.8990\n",
            "Epoch 29/30\n",
            "100/100 [==============================] - 2s 23ms/step - loss: 0.0919 - accuracy: 0.9725 - val_loss: 0.2458 - val_accuracy: 0.8990\n",
            "Epoch 30/30\n",
            "100/100 [==============================] - 2s 23ms/step - loss: 0.0921 - accuracy: 0.9735 - val_loss: 0.2424 - val_accuracy: 0.9000\n"
          ],
          "name": "stdout"
        }
      ]
    },
    {
      "cell_type": "code",
      "metadata": {
        "id": "reduced-football"
      },
      "source": [
        "import matplotlib.pyplot as plt\n",
        "\n",
        "def plot_curves(history):\n",
        "    acc = history.history['accuracy']\n",
        "    val_acc = history.history['val_accuracy']\n",
        "    loss = history.history['loss']\n",
        "    val_loss = history.history['val_loss']\n",
        "    \n",
        "    epochs = range(1, len(acc) + 1)\n",
        "    \n",
        "    plt.plot(epochs, acc, 'bo', label='Training accuracy')\n",
        "    plt.plot(epochs, val_acc, 'b', label='Validation accuracy')\n",
        "    plt.title('Training and Validation accuracy')\n",
        "    plt.legend()\n",
        "    \n",
        "    plt.figure()\n",
        "    \n",
        "    plt.plot(epochs, loss, 'bo', label='Training loss')\n",
        "    plt.plot(epochs, val_loss, 'b', label='Validation loss')\n",
        "    plt.title('Training and Validation loss')\n",
        "    \n",
        "    plt.show()"
      ],
      "id": "reduced-football",
      "execution_count": null,
      "outputs": []
    },
    {
      "cell_type": "code",
      "metadata": {
        "id": "basic-milwaukee",
        "outputId": "39e9138e-2b7c-4999-8128-70eb893c38ae"
      },
      "source": [
        "plot_curves(history)"
      ],
      "id": "basic-milwaukee",
      "execution_count": null,
      "outputs": [
        {
          "output_type": "display_data",
          "data": {
            "image/png": "[encoded data removed]",
            "text/plain": [
              "<Figure size 432x288 with 1 Axes>"
            ]
          },
          "metadata": {
            "tags": [],
            "needs_background": "light"
          }
        },
        {
          "output_type": "display_data",
          "data": {
            "image/png": "[encoded data removed]",
            "text/plain": [
              "<Figure size 432x288 with 1 Axes>"
            ]
          },
          "metadata": {
            "tags": [],
            "needs_background": "light"
          }
        }
      ]
    },
    {
      "cell_type": "markdown",
      "metadata": {
        "id": "ruled-stock"
      },
      "source": [
        "### Feature Extraction with Data Augmentation\n",
        "\n",
        "NOTE: We haven't trained the model since it would be intractable on CPU :("
      ],
      "id": "ruled-stock"
    },
    {
      "cell_type": "code",
      "metadata": {
        "id": "automotive-portland",
        "outputId": "312e2b6a-f8b9-4827-bf4e-0854362f5cdc"
      },
      "source": [
        "model = models.Sequential()\n",
        "model.add(conv_base) #Models behave just like layers and can be added as a layer in a Sequential model\n",
        "model.add(layers.Flatten())\n",
        "model.add(layers.Dense(256, activation='relu'))\n",
        "model.add(layers.Dense(1, activation='sigmoid'))\n",
        "\n",
        "model.summary()"
      ],
      "id": "automotive-portland",
      "execution_count": null,
      "outputs": [
        {
          "output_type": "stream",
          "text": [
            "Model: \"sequential_3\"\n",
            "_________________________________________________________________\n",
            "Layer (type)                 Output Shape              Param #   \n",
            "=================================================================\n",
            "vgg16 (Functional)           (None, 4, 4, 512)         14714688  \n",
            "_________________________________________________________________\n",
            "flatten (Flatten)            (None, 8192)              0         \n",
            "_________________________________________________________________\n",
            "dense_5 (Dense)              (None, 256)               2097408   \n",
            "_________________________________________________________________\n",
            "dense_6 (Dense)              (None, 1)                 257       \n",
            "=================================================================\n",
            "Total params: 16,812,353\n",
            "Trainable params: 16,812,353\n",
            "Non-trainable params: 0\n",
            "_________________________________________________________________\n"
          ],
          "name": "stdout"
        }
      ]
    },
    {
      "cell_type": "code",
      "metadata": {
        "id": "tested-found",
        "outputId": "7c2adc69-1a3e-43cd-811c-d44262b0ab27"
      },
      "source": [
        "print('This is the number of trainable weights before freezing the conv base: ', len(model.trainable_weights))\n",
        "conv_base.trainable = False  #Freezing the convolutional base\n",
        "print('This is the number of trainable weights after freezing the conv base: ', len(model.trainable_weights))"
      ],
      "id": "tested-found",
      "execution_count": null,
      "outputs": [
        {
          "output_type": "stream",
          "text": [
            "This is the number of trainable weights before freezing the conv base:  30\n",
            "This is the number of trainable weights after freezing the conv base:  4\n"
          ],
          "name": "stdout"
        }
      ]
    },
    {
      "cell_type": "code",
      "metadata": {
        "id": "painful-eleven",
        "outputId": "8a002e63-c708-4348-ecad-20c0774ffbc6"
      },
      "source": [
        "#Data Augmentation generator\n",
        "train_datagen = ImageDataGenerator(\n",
        "    rescale=1./255,\n",
        "    rotation_range=40,\n",
        "    width_shift_range=0.2,\n",
        "    height_shift_range=0.2,\n",
        "    shear_range=0.2,\n",
        "    zoom_range=0.2,\n",
        "    horizontal_flip=True,\n",
        "    fill_mode='nearest')\n",
        "\n",
        "test_datagen = ImageDataGenerator(rescale=1./255)\n",
        "\n",
        "train_generator = train_datagen.flow_from_directory(\n",
        "    train_dir,\n",
        "    target_size=(150, 150),\n",
        "    batch_size=20,\n",
        "    class_mode='binary')\n",
        "\n",
        "validation_generator = test_datagen.flow_from_directory(\n",
        "    validation_dir,\n",
        "    target_size=(150,150),\n",
        "    batch_size=20,\n",
        "    class_mode='binary')\n",
        "\n",
        "model.compile(loss='binary_crossentropy', optimizer=optimizers.RMSprop(learning_rate=2e-5), metrics=['accuracy'])"
      ],
      "id": "painful-eleven",
      "execution_count": null,
      "outputs": [
        {
          "output_type": "stream",
          "text": [
            "Found 2000 images belonging to 2 classes.\n",
            "Found 1000 images belonging to 2 classes.\n"
          ],
          "name": "stdout"
        }
      ]
    },
    {
      "cell_type": "code",
      "metadata": {
        "id": "blocked-original"
      },
      "source": [
        "#Insert training step here"
      ],
      "id": "blocked-original",
      "execution_count": null,
      "outputs": []
    },
    {
      "cell_type": "code",
      "metadata": {
        "id": "pointed-clearance"
      },
      "source": [
        ""
      ],
      "id": "pointed-clearance",
      "execution_count": null,
      "outputs": []
    }
  ]
}