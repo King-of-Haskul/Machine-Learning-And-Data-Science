{
  "nbformat": 4,
  "nbformat_minor": 0,
  "metadata": {
    "colab": {
      "name": "Boston_Housing_dataset.ipynb",
      "provenance": [],
      "authorship_tag": "ABX9TyNaHGrPyCxyaH7382+xCuj5",
      "include_colab_link": true
    },
    "kernelspec": {
      "name": "python3",
      "display_name": "Python 3"
    },
    "language_info": {
      "name": "python"
    },
    "accelerator": "GPU"
  },
  "cells": [
    {
      "cell_type": "markdown",
      "metadata": {
        "id": "view-in-github",
        "colab_type": "text"
      },
      "source": [
        "<a href=\"https://colab.research.google.com/github/King-of-Haskul/Machine-Learning-And-Data-Science/blob/main/Boston_Housing_dataset.ipynb\" target=\"_parent\"><img src=\"https://colab.research.google.com/assets/colab-badge.svg\" alt=\"Open In Colab\"/></a>"
      ]
    },
    {
      "cell_type": "code",
      "metadata": {
        "colab": {
          "base_uri": "https://localhost:8080/"
        },
        "id": "8irHU4RBJPP6",
        "outputId": "1c33dc14-4145-422d-b5f8-1d0572c067c8"
      },
      "source": [
        "from keras.datasets import boston_housing\n",
        "\n",
        "(train_data, train_targets), (test_data, test_targets) = boston_housing.load_data()"
      ],
      "execution_count": 1,
      "outputs": [
        {
          "output_type": "stream",
          "text": [
            "Downloading data from https://storage.googleapis.com/tensorflow/tf-keras-datasets/boston_housing.npz\n",
            "57344/57026 [==============================] - 0s 0us/step\n",
            "65536/57026 [==================================] - 0s 0us/step\n"
          ],
          "name": "stdout"
        }
      ]
    },
    {
      "cell_type": "code",
      "metadata": {
        "colab": {
          "base_uri": "https://localhost:8080/"
        },
        "id": "h8DZuj5aJ3XF",
        "outputId": "ef7070e2-0fba-48d9-8d16-94bf823ba982"
      },
      "source": [
        "train_data.shape"
      ],
      "execution_count": 2,
      "outputs": [
        {
          "output_type": "execute_result",
          "data": {
            "text/plain": [
              "(404, 13)"
            ]
          },
          "metadata": {
            "tags": []
          },
          "execution_count": 2
        }
      ]
    },
    {
      "cell_type": "code",
      "metadata": {
        "colab": {
          "base_uri": "https://localhost:8080/"
        },
        "id": "3-3Hh3axKAOT",
        "outputId": "c977c144-ca2a-4859-b2c3-5c53a494a2ef"
      },
      "source": [
        "train_targets[0] #These are median values of owner-occupied homes in thousands of dollars"
      ],
      "execution_count": 3,
      "outputs": [
        {
          "output_type": "execute_result",
          "data": {
            "text/plain": [
              "15.2"
            ]
          },
          "metadata": {
            "tags": []
          },
          "execution_count": 3
        }
      ]
    },
    {
      "cell_type": "markdown",
      "metadata": {
        "id": "arqnAmMHKmA8"
      },
      "source": [
        "### Normalizing the data"
      ]
    },
    {
      "cell_type": "code",
      "metadata": {
        "id": "aB2UwC3qKD88"
      },
      "source": [
        "import numpy as np\n",
        "\n",
        "mean = train_data.mean(axis=0)\n",
        "std = train_data.std(axis=0)\n",
        "train_data = (train_data - mean)/std\n",
        "#We normalize the test set using the mean and standard deviation calculated on the training set\n",
        "test_data = (test_data - mean)/std"
      ],
      "execution_count": 4,
      "outputs": []
    },
    {
      "cell_type": "markdown",
      "metadata": {
        "id": "_ehDSVqWLYC7"
      },
      "source": [
        "### Building the network"
      ]
    },
    {
      "cell_type": "code",
      "metadata": {
        "id": "ymMTKEwQK195"
      },
      "source": [
        "from keras import models\n",
        "from keras import layers\n",
        "\n",
        "def build_model():\n",
        "  model = models.Sequential()\n",
        "  model.add(layers.Dense(64, activation='relu', input_shape=(train_data.shape[1],)))\n",
        "  model.add(layers.Dense(64, activation='relu'))\n",
        "  model.add(layers.Dense(1))\n",
        "  model.compile(optimizer ='rmsprop', loss='mse', metrics=['mae'])\n",
        "  return model"
      ],
      "execution_count": 5,
      "outputs": []
    },
    {
      "cell_type": "markdown",
      "metadata": {
        "id": "39rCQUEEL_8Z"
      },
      "source": [
        "### K-fold Validation\n",
        "\n",
        "Since we have very few data points, using just one validation set would not suffice since it would be very small and would have high variance with regard to the validation split. Thus in such situations it is best practice to use k-fold cross-validation.\n",
        "\n",
        "It consists of splitting the available data into K partitions, instantiating K identical models, and training each one on K-1 partitions while evaluating on the remaining partition. The validation score for the model used is then the average of the K validation scores obtained.\n",
        "\n",
        "*Here we implement K-fold validation while also saving the validations logs at each fold:*"
      ]
    },
    {
      "cell_type": "code",
      "metadata": {
        "colab": {
          "base_uri": "https://localhost:8080/"
        },
        "id": "HUd8unKzL-c8",
        "outputId": "96ef4bed-28bf-4180-ef06-85e17b7d0cf5"
      },
      "source": [
        "k = 4     #Choosing number of folds\n",
        "num_val_samples = len(train_data) // k      #number of samples in each validation set\n",
        "num_epochs = 500\n",
        "all_mae_histories =[]\n",
        "\n",
        "for i in range(k):\n",
        "  print('processing fold #', i)\n",
        "  val_data = train_data[i*num_val_samples: (i+1)*num_val_samples]\n",
        "  val_targets = train_targets[i*num_val_samples: (i+1)*num_val_samples]\n",
        "\n",
        "  partial_train_data = np.concatenate([train_data[:i*num_val_samples], train_data[(i+1)*num_val_samples:]], axis=0)\n",
        "  partial_train_targets = np.concatenate([train_targets[:i*num_val_samples], train_targets[(i+1)*num_val_samples:]], axis=0)\n",
        "\n",
        "  model = build_model()\n",
        "  history = model.fit(partial_train_data, partial_train_targets,\n",
        "                      validation_data=(val_data, val_targets), \n",
        "                      epochs = num_epochs, batch_size=1, verbose=0) #verbose = 0 trains without printing\n",
        "  \n",
        "  mae_history = history.history['val_mae'] #This returns a list of mae on validation set for each epoch\n",
        "  all_mae_histories.append(mae_history) #Saving the validations logs for each fold\n",
        "\n",
        "average_mae_history = [np.mean([x[i] for x in all_mae_histories]) for i in range(num_epochs)] #Taking the mean of the 4 models for each epoch"
      ],
      "execution_count": 6,
      "outputs": [
        {
          "output_type": "stream",
          "text": [
            "processing fold # 0\n",
            "processing fold # 1\n",
            "processing fold # 2\n",
            "processing fold # 3\n"
          ],
          "name": "stdout"
        }
      ]
    },
    {
      "cell_type": "markdown",
      "metadata": {
        "id": "ONF1KDZNYX_U"
      },
      "source": [
        "### Plotting Validation Scores"
      ]
    },
    {
      "cell_type": "code",
      "metadata": {
        "colab": {
          "base_uri": "https://localhost:8080/",
          "height": 279
        },
        "id": "rl0BprxtRaCX",
        "outputId": "d71a443e-884c-4315-b600-92cfc90cea1e"
      },
      "source": [
        "import matplotlib.pyplot as plt\n",
        "\n",
        "epochs = range(1, len(average_mae_history)+1)\n",
        "plt.plot(epochs, average_mae_history)\n",
        "plt.xlabel('Epochs')\n",
        "plt.ylabel('Validation MAE')\n",
        "plt.show()"
      ],
      "execution_count": 7,
      "outputs": [
        {
          "output_type": "display_data",
          "data": {
            "image/png": "[encoded data removed]",
            "text/plain": [
              "<Figure size 432x288 with 1 Axes>"
            ]
          },
          "metadata": {
            "tags": [],
            "needs_background": "light"
          }
        }
      ]
    },
    {
      "cell_type": "markdown",
      "metadata": {
        "id": "842IoHREYwUz"
      },
      "source": [
        "\n",
        "\n",
        "*   Omiting the first 10 data points, which are on a different scale than the rest of the curve.\n",
        "*   Replacing each point with an ***exponential moving average*** of the previous points, to obtain a smooth curve.\n",
        "\n"
      ]
    },
    {
      "cell_type": "code",
      "metadata": {
        "id": "ASONBW9nYu_2"
      },
      "source": [
        "#Exponential moving average implementation\n",
        "def smooth_curve(points, factor=0.9):\n",
        "  smoothed_points = []\n",
        "  for point in points:\n",
        "    if smoothed_points: #If smoothed_points is not empty\n",
        "      previous = smoothed_points[-1]\n",
        "      smoothed_points.append(previous*factor + point*(1-factor))\n",
        "    else: #when smoothed_points is empty\n",
        "      smoothed_points.append(point)\n",
        "\n",
        "  return smoothed_points"
      ],
      "execution_count": 20,
      "outputs": []
    },
    {
      "cell_type": "code",
      "metadata": {
        "id": "XYf6HhsdZLYn"
      },
      "source": [
        "smooth_mae_history = smooth_curve(average_mae_history[10:]) #obtaining smooth points while omitting the first 10 data points"
      ],
      "execution_count": 21,
      "outputs": []
    },
    {
      "cell_type": "code",
      "metadata": {
        "colab": {
          "base_uri": "https://localhost:8080/",
          "height": 279
        },
        "id": "XPH6LsTua53W",
        "outputId": "ffd69307-aeda-49b3-ae82-585b483a111e"
      },
      "source": [
        "plt.clf()\n",
        "plt.plot(range(1,len(smooth_mae_history)+1), smooth_mae_history)\n",
        "plt.xlabel('Epochs')\n",
        "plt.ylabel('Validation MAE')\n",
        "plt.show()"
      ],
      "execution_count": 22,
      "outputs": [
        {
          "output_type": "display_data",
          "data": {
            "image/png": "[encoded data removed]",
            "text/plain": [
              "<Figure size 432x288 with 1 Axes>"
            ]
          },
          "metadata": {
            "tags": [],
            "needs_background": "light"
          }
        }
      ]
    },
    {
      "cell_type": "markdown",
      "metadata": {
        "id": "YzwCMsMJcyTK"
      },
      "source": [
        "### Training the final model\n",
        "With epochs = 80\n"
      ]
    },
    {
      "cell_type": "code",
      "metadata": {
        "colab": {
          "base_uri": "https://localhost:8080/"
        },
        "id": "m8nVF1hXbPAp",
        "outputId": "c268b85d-43f1-4c2d-d79b-3720713e17c5"
      },
      "source": [
        "model = build_model()\n",
        "model.fit(train_data, train_targets, epochs=80, batch_size=16, verbose=0)\n",
        "test_mse_score, test_mae_score = model.evaluate(test_data, test_targets, verbose=0)\n",
        "test_mae_score"
      ],
      "execution_count": 27,
      "outputs": [
        {
          "output_type": "execute_result",
          "data": {
            "text/plain": [
              "2.7567901611328125"
            ]
          },
          "metadata": {
            "tags": []
          },
          "execution_count": 27
        }
      ]
    },
    {
      "cell_type": "markdown",
      "metadata": {
        "id": "lzhlwgL7dlup"
      },
      "source": [
        "Our model is still off by about $2,757."
      ]
    },
    {
      "cell_type": "code",
      "metadata": {
        "id": "HJ7dB8TpdsDP"
      },
      "source": [
        ""
      ],
      "execution_count": null,
      "outputs": []
    }
  ]
}