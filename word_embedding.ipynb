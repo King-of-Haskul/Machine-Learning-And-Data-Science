{
  "nbformat": 4,
  "nbformat_minor": 5,
  "metadata": {
    "kernelspec": {
      "display_name": "Python 3",
      "language": "python",
      "name": "python3"
    },
    "language_info": {
      "codemirror_mode": {
        "name": "ipython",
        "version": 3
      },
      "file_extension": ".py",
      "mimetype": "text/x-python",
      "name": "python",
      "nbconvert_exporter": "python",
      "pygments_lexer": "ipython3",
      "version": "3.8.8"
    },
    "colab": {
      "name": "word_embedding.ipynb",
      "provenance": [],
      "include_colab_link": true
    }
  },
  "cells": [
    {
      "cell_type": "markdown",
      "metadata": {
        "id": "view-in-github",
        "colab_type": "text"
      },
      "source": [
        "<a href=\"https://colab.research.google.com/github/King-of-Haskul/Machine-Learning-And-Data-Science/blob/main/word_embedding.ipynb\" target=\"_parent\"><img src=\"https://colab.research.google.com/assets/colab-badge.svg\" alt=\"Open In Colab\"/></a>"
      ]
    },
    {
      "cell_type": "markdown",
      "metadata": {
        "id": "specialized-pittsburgh"
      },
      "source": [
        "## One-hot encoding of tokens"
      ],
      "id": "specialized-pittsburgh"
    },
    {
      "cell_type": "markdown",
      "metadata": {
        "id": "important-disco"
      },
      "source": [
        "#### Word-level one-hot encoding (toy example)"
      ],
      "id": "important-disco"
    },
    {
      "cell_type": "code",
      "metadata": {
        "id": "comparative-electric"
      },
      "source": [
        "import numpy as np\n",
        "\n",
        "samples = ['The cat sat on the mat.', 'The dog ate my homework.']\n",
        "\n",
        "token_index = {}\n",
        "for sample in samples:\n",
        "    for word in sample.split():\n",
        "        if word not in token_index:\n",
        "            token_index[word] = len(token_index) + 1\n",
        "            \n",
        "max_length = 10 #We'll only consider the first max_length words in each sample\n",
        "\n",
        "results = np.zeros(shape=(len(samples), max_length, max(token_index.values()) + 1))\n",
        "\n",
        "for i, sample in enumerate(samples):\n",
        "    for j, word in list(enumerate(sample.split()))[:max_length]:\n",
        "        index = token_index.get(word)\n",
        "        results[i, j, index] = 1"
      ],
      "id": "comparative-electric",
      "execution_count": null,
      "outputs": []
    },
    {
      "cell_type": "markdown",
      "metadata": {
        "id": "employed-bouquet"
      },
      "source": [
        "#### Using Keras for word-level one-hot encodng"
      ],
      "id": "employed-bouquet"
    },
    {
      "cell_type": "code",
      "metadata": {
        "id": "variable-unemployment",
        "outputId": "33f03f77-e296-42eb-8f7b-777eceed3bb4"
      },
      "source": [
        "from tensorflow.keras.preprocessing.text import Tokenizer\n",
        "\n",
        "samples = ['The cat sat on the mat.', 'The dog ate my homework.']\n",
        "\n",
        "tokenizer = Tokenizer(num_words=1000) #Creates a tokenizer that only takes into account 1000 most common words\n",
        "tokenizer.fit_on_texts(samples)\n",
        "\n",
        "\n",
        "one_hot_results = tokenizer.texts_to_matrix(samples, mode='binary') #Directly get one-hot binary representations\n",
        "\n",
        "word_index = tokenizer.word_index\n",
        "print('Found %s unique tokens.' %len(word_index))"
      ],
      "id": "variable-unemployment",
      "execution_count": null,
      "outputs": [
        {
          "output_type": "stream",
          "text": [
            "Found 9 unique tokens.\n"
          ],
          "name": "stdout"
        }
      ]
    },
    {
      "cell_type": "markdown",
      "metadata": {
        "id": "recovered-father"
      },
      "source": [
        "#### One-hot hashing trick"
      ],
      "id": "recovered-father"
    },
    {
      "cell_type": "code",
      "metadata": {
        "id": "functional-alliance"
      },
      "source": [
        "samples = ['The cat sat on the mat.', 'The dog ate my homework.']\n",
        "\n",
        "dimensionality = 1000 #dimensionality of the hashing space. Stores the words as vectors of size 1000.\n",
        "max_length= 10\n",
        "\n",
        "results = np.zeros((len(samples), max_length, dimensionality))\n",
        "for i,sample in enumerate(samples):\n",
        "    for j, word in list(enumerate(sample.split()))[:max_length]:\n",
        "        index = abs(hash(word)) % dimensionality   #Hashes the word into a random integer index between 0 and 1000\n",
        "        results[i, j, index] = 1"
      ],
      "id": "functional-alliance",
      "execution_count": null,
      "outputs": []
    },
    {
      "cell_type": "code",
      "metadata": {
        "id": "identified-organ",
        "outputId": "3b7d4a2b-9b43-4885-9ac8-b6c2f4d70632"
      },
      "source": [
        "results.shape"
      ],
      "id": "identified-organ",
      "execution_count": null,
      "outputs": [
        {
          "output_type": "execute_result",
          "data": {
            "text/plain": [
              "(2, 10, 1000)"
            ]
          },
          "metadata": {
            "tags": []
          },
          "execution_count": 15
        }
      ]
    },
    {
      "cell_type": "markdown",
      "metadata": {
        "id": "aware-atlas"
      },
      "source": [
        "### Word embeddings"
      ],
      "id": "aware-atlas"
    },
    {
      "cell_type": "markdown",
      "metadata": {
        "id": "cosmetic-transportation"
      },
      "source": [
        "#### Learning word embeddings with the Embedding layer on IMDB dataset"
      ],
      "id": "cosmetic-transportation"
    },
    {
      "cell_type": "code",
      "metadata": {
        "id": "rural-drain",
        "outputId": "5c35ef17-32cb-47c3-f425-0cc9f3b7b9a5"
      },
      "source": [
        "from tensorflow.keras.layers import Embedding\n",
        "\n",
        "embedding_layer = Embedding(1000, 64) #The number of possible tokens = 10000, Dimensionality of the embeddings=64\n",
        "\n",
        "#Loading the IMDB data and preprocessing it\n",
        "from tensorflow.keras.datasets import imdb\n",
        "from tensorflow.keras import preprocessing\n",
        "\n",
        "max_features = 10000  #Number of words to consider as features\n",
        "maxlen = 20           #Cuts off the text after this number of words (among the max_features most common words)\n",
        "\n",
        "(x_train, y_train), (x_test, y_test) = imdb.load_data(num_words=max_features)\n",
        "\n",
        "x_train = preprocessing.sequence.pad_sequences(x_train, maxlen=maxlen)  #Turns the list of integers into a 2D integer tensor of shape (samples, maxlen)\n",
        "x_test = preprocessing.sequence.pad_sequences(x_test, maxlen=maxlen)"
      ],
      "id": "rural-drain",
      "execution_count": null,
      "outputs": [
        {
          "output_type": "stream",
          "text": [
            "Downloading data from https://storage.googleapis.com/tensorflow/tf-keras-datasets/imdb.npz\n",
            "17465344/17464789 [==============================] - 9s 0us/step\n"
          ],
          "name": "stdout"
        },
        {
          "output_type": "stream",
          "text": [
            "<__array_function__ internals>:5: VisibleDeprecationWarning: Creating an ndarray from ragged nested sequences (which is a list-or-tuple of lists-or-tuples-or ndarrays with different lengths or shapes) is deprecated. If you meant to do this, you must specify 'dtype=object' when creating the ndarray\n",
            "C:\\Users\\pc\\anaconda3\\envs\\tf\\lib\\site-packages\\tensorflow\\python\\keras\\datasets\\imdb.py:159: VisibleDeprecationWarning: Creating an ndarray from ragged nested sequences (which is a list-or-tuple of lists-or-tuples-or ndarrays with different lengths or shapes) is deprecated. If you meant to do this, you must specify 'dtype=object' when creating the ndarray\n",
            "  x_train, y_train = np.array(xs[:idx]), np.array(labels[:idx])\n",
            "C:\\Users\\pc\\anaconda3\\envs\\tf\\lib\\site-packages\\tensorflow\\python\\keras\\datasets\\imdb.py:160: VisibleDeprecationWarning: Creating an ndarray from ragged nested sequences (which is a list-or-tuple of lists-or-tuples-or ndarrays with different lengths or shapes) is deprecated. If you meant to do this, you must specify 'dtype=object' when creating the ndarray\n",
            "  x_test, y_test = np.array(xs[idx:]), np.array(labels[idx:])\n"
          ],
          "name": "stderr"
        }
      ]
    },
    {
      "cell_type": "markdown",
      "metadata": {
        "id": "artistic-banks"
      },
      "source": [
        "Using an Embedding layer and classifier on the IMDB data"
      ],
      "id": "artistic-banks"
    },
    {
      "cell_type": "code",
      "metadata": {
        "id": "broke-emergency",
        "outputId": "a11dd370-dc44-4618-9328-5557598795b3"
      },
      "source": [
        "from tensorflow.keras.models import Sequential\n",
        "from tensorflow.keras.layers import Flatten, Dense\n",
        "\n",
        "model = Sequential()\n",
        "model.add(Embedding(10000, 8, input_length=maxlen)) #Output has shape (samples, maxlen, 8) i.e. 8 dimensional embeddings\n",
        "model.add(Flatten())  #Flattens the 3D tensor of embeddings into a 2D tensor of shape (samples, maxlen*8)\n",
        "model.add(Dense(1, activation='sigmoid'))  #Classifier on top\n",
        "\n",
        "model.compile(optimizer='rmsprop', loss='binary_crossentropy', metrics=['accuracy'])\n",
        "model.summary()"
      ],
      "id": "broke-emergency",
      "execution_count": null,
      "outputs": [
        {
          "output_type": "stream",
          "text": [
            "Model: \"sequential\"\n",
            "_________________________________________________________________\n",
            "Layer (type)                 Output Shape              Param #   \n",
            "=================================================================\n",
            "embedding_1 (Embedding)      (None, 20, 8)             80000     \n",
            "_________________________________________________________________\n",
            "flatten (Flatten)            (None, 160)               0         \n",
            "_________________________________________________________________\n",
            "dense (Dense)                (None, 1)                 161       \n",
            "=================================================================\n",
            "Total params: 80,161\n",
            "Trainable params: 80,161\n",
            "Non-trainable params: 0\n",
            "_________________________________________________________________\n"
          ],
          "name": "stdout"
        }
      ]
    },
    {
      "cell_type": "code",
      "metadata": {
        "id": "removed-elephant",
        "outputId": "32eec643-c748-4edb-c6f4-7533c3047071"
      },
      "source": [
        "model.fit(x_train, y_train, epochs=10, batch_size=32, validation_split=0.2)"
      ],
      "id": "removed-elephant",
      "execution_count": null,
      "outputs": [
        {
          "output_type": "stream",
          "text": [
            "Epoch 1/10\n",
            "625/625 [==============================] - 1s 1ms/step - loss: 0.6693 - accuracy: 0.6222 - val_loss: 0.6226 - val_accuracy: 0.6986\n",
            "Epoch 2/10\n",
            "625/625 [==============================] - 1s 1ms/step - loss: 0.5453 - accuracy: 0.7497 - val_loss: 0.5310 - val_accuracy: 0.7302\n",
            "Epoch 3/10\n",
            "625/625 [==============================] - 1s 1ms/step - loss: 0.4624 - accuracy: 0.7887 - val_loss: 0.5041 - val_accuracy: 0.7470\n",
            "Epoch 4/10\n",
            "625/625 [==============================] - 1s 997us/step - loss: 0.4198 - accuracy: 0.8130 - val_loss: 0.4963 - val_accuracy: 0.7536\n",
            "Epoch 5/10\n",
            "625/625 [==============================] - 1s 992us/step - loss: 0.3903 - accuracy: 0.8295 - val_loss: 0.4967 - val_accuracy: 0.7550\n",
            "Epoch 6/10\n",
            "625/625 [==============================] - 1s 1ms/step - loss: 0.3655 - accuracy: 0.8424 - val_loss: 0.4998 - val_accuracy: 0.7562\n",
            "Epoch 7/10\n",
            "625/625 [==============================] - 1s 979us/step - loss: 0.3430 - accuracy: 0.8544 - val_loss: 0.5065 - val_accuracy: 0.7516\n",
            "Epoch 8/10\n",
            "625/625 [==============================] - 1s 989us/step - loss: 0.3222 - accuracy: 0.8660 - val_loss: 0.5130 - val_accuracy: 0.7494\n",
            "Epoch 9/10\n",
            "625/625 [==============================] - 1s 1ms/step - loss: 0.3028 - accuracy: 0.8769 - val_loss: 0.5229 - val_accuracy: 0.7490\n",
            "Epoch 10/10\n",
            "625/625 [==============================] - 1s 995us/step - loss: 0.2850 - accuracy: 0.8868 - val_loss: 0.5318 - val_accuracy: 0.7480\n"
          ],
          "name": "stdout"
        },
        {
          "output_type": "execute_result",
          "data": {
            "text/plain": [
              "<tensorflow.python.keras.callbacks.History at 0x24c08cc81c0>"
            ]
          },
          "metadata": {
            "tags": []
          },
          "execution_count": 18
        }
      ]
    },
    {
      "cell_type": "markdown",
      "metadata": {
        "id": "second-miami"
      },
      "source": [
        "## Using GloVe word embeddings on IMBD dataset"
      ],
      "id": "second-miami"
    },
    {
      "cell_type": "markdown",
      "metadata": {
        "id": "chinese-surveillance"
      },
      "source": [
        "#### Preprocessing the labels of the raw IMDB data"
      ],
      "id": "chinese-surveillance"
    },
    {
      "cell_type": "code",
      "metadata": {
        "id": "forty-premiere"
      },
      "source": [
        "import os\n",
        "\n",
        "imdb_dir = '/Users/pc/Downloads/aclImdb'\n",
        "train_dir = os.path.join(imdb_dir, 'train')\n",
        "\n",
        "labels = []\n",
        "texts = []\n",
        "\n",
        "for label_type in ['neg', 'pos']:\n",
        "    dir_name= os.path.join(train_dir, label_type)\n",
        "    for fname in os.listdir(dir_name):\n",
        "        if fname[-4:] == '.txt':  #Checking the last 4 characters to confirm .txt file\n",
        "            f = open(os.path.join(dir_name, fname),  encoding=\"utf8\")\n",
        "            texts.append(f.read())\n",
        "            f.close()\n",
        "            if label_type == 'neg':\n",
        "                labels.append(0)\n",
        "            else:\n",
        "                labels.append(1)"
      ],
      "id": "forty-premiere",
      "execution_count": null,
      "outputs": []
    },
    {
      "cell_type": "markdown",
      "metadata": {
        "id": "convinced-trustee"
      },
      "source": [
        "#### Tokenizing the text"
      ],
      "id": "convinced-trustee"
    },
    {
      "cell_type": "code",
      "metadata": {
        "id": "lined-onion",
        "outputId": "fac873ac-8853-4984-e946-da464e132b6a"
      },
      "source": [
        "from tensorflow.keras.preprocessing.text import Tokenizer\n",
        "from tensorflow.keras.preprocessing.sequence import pad_sequences\n",
        "import numpy as np\n",
        "\n",
        "maxlen = 100  #Cutss off reviews after 100 words\n",
        "training_samples = 2000\n",
        "validation_samples = 1000 \n",
        "max_words = 10000  #Considers only the top 10,000 words in the dataset\n",
        "\n",
        "tokenizer = Tokenizer(num_words=max_words)\n",
        "tokenizer.fit_on_texts(texts)  #Builds the word index\n",
        "sequences = tokenizer.texts_to_sequences(texts)  #Turns strings into lists of integer indices\n",
        "\n",
        "word_index = tokenizer.word_index\n",
        "length = len(word_index)\n",
        "print(f\"Found {length} unique tokens.\")\n",
        "\n",
        "data = pad_sequences(sequences, maxlen=maxlen)\n",
        "\n",
        "labels = np.asarray(labels)\n",
        "print('Shape of data tensor: ', data.shape)\n",
        "print('Shape of lavbel tensor: ', labels.shape)\n",
        "\n",
        "indices = np.arange(data.shape[0])  #Splits the data into a training set and a validation set, but first shuffles the data.\n",
        "np.random.shuffle(indices)\n",
        "data = data[indices]\n",
        "labels = labels[indices]\n",
        "\n",
        "x_train = data[:training_samples]\n",
        "y_train = labels[:training_samples]\n",
        "x_val = data[training_samples : training_samples + validation_samples]\n",
        "y_val = labels[training_samples : training_samples + validation_samples]"
      ],
      "id": "lined-onion",
      "execution_count": null,
      "outputs": [
        {
          "output_type": "stream",
          "text": [
            "Found 87393 unique tokens.\n",
            "Shape of data tensor:  (25000, 100)\n",
            "Shape of lavbel tensor:  (25000,)\n"
          ],
          "name": "stdout"
        }
      ]
    },
    {
      "cell_type": "markdown",
      "metadata": {
        "id": "underlying-therapist"
      },
      "source": [
        "#### Parsing and preparing the GloVe word-embeddings:"
      ],
      "id": "underlying-therapist"
    },
    {
      "cell_type": "code",
      "metadata": {
        "id": "aboriginal-rapid",
        "outputId": "cd48e80c-7fc4-4a9b-925f-201de8234062"
      },
      "source": [
        "glove_dir = '/Users/pc/Downloads/glove.6B'\n",
        "\n",
        "embeddings_index = {}\n",
        "f = open(os.path.join(glove_dir, 'glove.6B.100d.txt'), encoding=\"utf-8\")\n",
        "for line in f:\n",
        "    values = line.split()\n",
        "    word = values[0]\n",
        "    coefs = np.asarray(values[1:], dtype='float32')\n",
        "    embeddings_index[word] = coefs\n",
        "f.close()\n",
        "num = len(embeddings_index)\n",
        "print(f\"Found {num} word vectors.\")"
      ],
      "id": "aboriginal-rapid",
      "execution_count": null,
      "outputs": [
        {
          "output_type": "stream",
          "text": [
            "Found 400000 word vectors.\n"
          ],
          "name": "stdout"
        }
      ]
    },
    {
      "cell_type": "code",
      "metadata": {
        "id": "occasional-medicare"
      },
      "source": [
        "embedding_dim = 100\n",
        "\n",
        "embedding_matrix = np.zeros((max_words, embedding_dim))\n",
        "for word, i in word_index.items():\n",
        "    if i < max_words:\n",
        "        embedding_vector = embeddings_index.get(word)\n",
        "        if embedding_vector is not None:\n",
        "            embedding_matrix[i] = embedding_vector"
      ],
      "id": "occasional-medicare",
      "execution_count": null,
      "outputs": []
    },
    {
      "cell_type": "markdown",
      "metadata": {
        "id": "downtown-cancer"
      },
      "source": [
        "#### Building, training and evaluating Model"
      ],
      "id": "downtown-cancer"
    },
    {
      "cell_type": "code",
      "metadata": {
        "id": "complicated-elephant",
        "outputId": "2a5dcff3-62af-452b-9acf-33ce74a25d67"
      },
      "source": [
        "#Model definition\n",
        "from tensorflow.keras.models import Sequential\n",
        "from tensorflow.keras.layers import Embedding, Flatten, Dense\n",
        "\n",
        "model = Sequential()\n",
        "model.add(Embedding(max_words, embedding_dim, input_length=maxlen))\n",
        "model.add(Flatten())\n",
        "model.add(Dense(32, activation='relu'))\n",
        "model.add(Dense(1, activation='sigmoid'))\n",
        "model.summary()"
      ],
      "id": "complicated-elephant",
      "execution_count": null,
      "outputs": [
        {
          "output_type": "stream",
          "text": [
            "Model: \"sequential_4\"\n",
            "_________________________________________________________________\n",
            "Layer (type)                 Output Shape              Param #   \n",
            "=================================================================\n",
            "embedding_4 (Embedding)      (None, 100, 100)          1000000   \n",
            "_________________________________________________________________\n",
            "flatten_4 (Flatten)          (None, 10000)             0         \n",
            "_________________________________________________________________\n",
            "dense_8 (Dense)              (None, 32)                320032    \n",
            "_________________________________________________________________\n",
            "dense_9 (Dense)              (None, 1)                 33        \n",
            "=================================================================\n",
            "Total params: 1,320,065\n",
            "Trainable params: 1,320,065\n",
            "Non-trainable params: 0\n",
            "_________________________________________________________________\n"
          ],
          "name": "stdout"
        }
      ]
    },
    {
      "cell_type": "code",
      "metadata": {
        "id": "educated-pontiac"
      },
      "source": [
        "#Loading pretrained word embeddings into the Embedding layer\n",
        "model.layers[0].set_weights([embedding_matrix])\n",
        "model.layers[0].trainable = False"
      ],
      "id": "educated-pontiac",
      "execution_count": null,
      "outputs": []
    },
    {
      "cell_type": "code",
      "metadata": {
        "id": "level-anaheim",
        "outputId": "71db0a86-8ee3-44dc-cb1a-800ab312214a"
      },
      "source": [
        "#Training and Evaluation\n",
        "model.compile(optimizer='rmsprop', loss='binary_crossentropy', metrics=['accuracy'])\n",
        "\n",
        "history = model.fit(x_train, y_train, epochs=10, batch_size=32, validation_data=(x_val, y_val))\n",
        "\n",
        "model.save_weights('pre_trained_glove_model.h5')"
      ],
      "id": "level-anaheim",
      "execution_count": null,
      "outputs": [
        {
          "output_type": "stream",
          "text": [
            "Epoch 1/10\n",
            "63/63 [==============================] - 1s 9ms/step - loss: 0.8129 - accuracy: 0.4940 - val_loss: 0.6931 - val_accuracy: 0.5080\n",
            "Epoch 2/10\n",
            "63/63 [==============================] - 0s 7ms/step - loss: 0.6940 - accuracy: 0.5035 - val_loss: 0.7003 - val_accuracy: 0.4810\n",
            "Epoch 3/10\n",
            "63/63 [==============================] - 0s 7ms/step - loss: 0.6940 - accuracy: 0.5445 - val_loss: 0.6953 - val_accuracy: 0.4870\n",
            "Epoch 4/10\n",
            "63/63 [==============================] - 0s 7ms/step - loss: 0.6708 - accuracy: 0.6130 - val_loss: 0.7028 - val_accuracy: 0.4770\n",
            "Epoch 5/10\n",
            "63/63 [==============================] - 0s 7ms/step - loss: 0.6159 - accuracy: 0.7170 - val_loss: 0.7057 - val_accuracy: 0.5040\n",
            "Epoch 6/10\n",
            "63/63 [==============================] - 0s 7ms/step - loss: 0.5526 - accuracy: 0.7840 - val_loss: 0.7206 - val_accuracy: 0.4930\n",
            "Epoch 7/10\n",
            "63/63 [==============================] - 0s 8ms/step - loss: 0.4738 - accuracy: 0.8415 - val_loss: 0.7384 - val_accuracy: 0.4970\n",
            "Epoch 8/10\n",
            "63/63 [==============================] - 0s 8ms/step - loss: 0.4050 - accuracy: 0.8710 - val_loss: 0.7892 - val_accuracy: 0.5010\n",
            "Epoch 9/10\n",
            "63/63 [==============================] - 0s 7ms/step - loss: 0.3408 - accuracy: 0.8965 - val_loss: 0.8222 - val_accuracy: 0.4990\n",
            "Epoch 10/10\n",
            "63/63 [==============================] - 1s 9ms/step - loss: 0.2768 - accuracy: 0.9250 - val_loss: 0.9116 - val_accuracy: 0.4860\n"
          ],
          "name": "stdout"
        }
      ]
    },
    {
      "cell_type": "markdown",
      "metadata": {
        "id": "agricultural-solution"
      },
      "source": [
        "#### Training the same model without pretrained word embeddings"
      ],
      "id": "agricultural-solution"
    },
    {
      "cell_type": "code",
      "metadata": {
        "id": "premium-cause",
        "outputId": "e49580e0-e6ad-42e0-bc45-b52d624258d2"
      },
      "source": [
        "model = Sequential()\n",
        "model.add(Embedding(max_words, embedding_dim, input_length=maxlen))\n",
        "model.add(Flatten())\n",
        "model.add(Dense(32, activation='relu'))\n",
        "model.add(Dense(1, activation='sigmoid'))\n",
        "\n",
        "model.compile(optimizer='rmsprop', loss='binary_crossentropy', metrics=['accuracy'])\n",
        "\n",
        "history = model.fit(x_train, y_train, epochs=10, batch_size=32, validation_data=(x_val, y_val))"
      ],
      "id": "premium-cause",
      "execution_count": null,
      "outputs": [
        {
          "output_type": "stream",
          "text": [
            "Epoch 1/10\n",
            "7/7 [==============================] - 0s 42ms/step - loss: 0.6979 - accuracy: 0.4850 - val_loss: 0.6935 - val_accuracy: 0.5050\n",
            "Epoch 2/10\n",
            "7/7 [==============================] - 0s 21ms/step - loss: 0.5061 - accuracy: 0.9950 - val_loss: 0.7011 - val_accuracy: 0.4890\n",
            "Epoch 3/10\n",
            "7/7 [==============================] - 0s 21ms/step - loss: 0.2937 - accuracy: 1.0000 - val_loss: 0.7039 - val_accuracy: 0.5050\n",
            "Epoch 4/10\n",
            "7/7 [==============================] - 0s 22ms/step - loss: 0.1337 - accuracy: 1.0000 - val_loss: 0.7122 - val_accuracy: 0.4950\n",
            "Epoch 5/10\n",
            "7/7 [==============================] - 0s 20ms/step - loss: 0.0641 - accuracy: 1.0000 - val_loss: 0.7303 - val_accuracy: 0.4910\n",
            "Epoch 6/10\n",
            "7/7 [==============================] - 0s 21ms/step - loss: 0.0331 - accuracy: 1.0000 - val_loss: 0.7245 - val_accuracy: 0.5000\n",
            "Epoch 7/10\n",
            "7/7 [==============================] - 0s 22ms/step - loss: 0.0182 - accuracy: 1.0000 - val_loss: 0.7305 - val_accuracy: 0.5070\n",
            "Epoch 8/10\n",
            "7/7 [==============================] - 0s 21ms/step - loss: 0.0105 - accuracy: 1.0000 - val_loss: 0.7378 - val_accuracy: 0.5050\n",
            "Epoch 9/10\n",
            "7/7 [==============================] - 0s 22ms/step - loss: 0.0063 - accuracy: 1.0000 - val_loss: 0.7461 - val_accuracy: 0.5000\n",
            "Epoch 10/10\n",
            "7/7 [==============================] - 0s 25ms/step - loss: 0.0038 - accuracy: 1.0000 - val_loss: 0.7564 - val_accuracy: 0.4990\n"
          ],
          "name": "stdout"
        }
      ]
    },
    {
      "cell_type": "markdown",
      "metadata": {
        "id": "embedded-citation"
      },
      "source": [
        "#### Evaluating on the test set"
      ],
      "id": "embedded-citation"
    },
    {
      "cell_type": "code",
      "metadata": {
        "id": "robust-instrument"
      },
      "source": [
        "#Tokenizing the data of the test set\n",
        "test_dir = os.path.join(imdb_dir, 'test')\n",
        "\n",
        "labels = []\n",
        "texts = []\n",
        "\n",
        "for label_type in ['neg', 'pos']:\n",
        "    dir_name = os.path.join(test_dir, label_type)\n",
        "    for fname in sorted(os.listdir(dir_name)):\n",
        "        if fname[-4:] == '.txt':\n",
        "            f = open(os.path.join(dir_name, fname), encoding = \"utf-8\")\n",
        "            texts.append(f.read())\n",
        "            f.close()\n",
        "            if label_type == 'neg':\n",
        "                labels.append(0)\n",
        "            else:\n",
        "                labels.append(1)\n",
        "\n",
        "sequences = tokenizer.texts_to_sequences(texts)\n",
        "x_test = pad_sequences(sequences, maxlen=maxlen)\n",
        "y_test = np.asarray(labels)"
      ],
      "id": "robust-instrument",
      "execution_count": null,
      "outputs": []
    },
    {
      "cell_type": "code",
      "metadata": {
        "id": "marked-florist",
        "outputId": "8bcc8bb3-0003-44f6-d871-2da3e8c0c47f"
      },
      "source": [
        "#Evaluating the model on the test set\n",
        "model.load_weights('pre_trained_glove_model.h5')\n",
        "model.evaluate(x_test, y_test)"
      ],
      "id": "marked-florist",
      "execution_count": null,
      "outputs": [
        {
          "output_type": "stream",
          "text": [
            "782/782 [==============================] - 2s 2ms/step - loss: 0.8872 - accuracy: 0.5061\n"
          ],
          "name": "stdout"
        },
        {
          "output_type": "execute_result",
          "data": {
            "text/plain": [
              "[0.8871650099754333, 0.5060799717903137]"
            ]
          },
          "metadata": {
            "tags": []
          },
          "execution_count": 45
        }
      ]
    },
    {
      "cell_type": "markdown",
      "metadata": {
        "id": "judicial-object"
      },
      "source": [
        "Abbysmal 50% accuracy, basically no imporvement on the random baseline :("
      ],
      "id": "judicial-object"
    },
    {
      "cell_type": "code",
      "metadata": {
        "id": "afraid-kitchen"
      },
      "source": [
        ""
      ],
      "id": "afraid-kitchen",
      "execution_count": null,
      "outputs": []
    }
  ]
}