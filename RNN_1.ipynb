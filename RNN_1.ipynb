{
  "nbformat": 4,
  "nbformat_minor": 0,
  "metadata": {
    "colab": {
      "name": "RNN_1.ipynb",
      "provenance": [],
      "collapsed_sections": [],
      "authorship_tag": "ABX9TyNxB4djHkl7VEJmfaXzY08R",
      "include_colab_link": true
    },
    "kernelspec": {
      "name": "python3",
      "display_name": "Python 3"
    },
    "language_info": {
      "name": "python"
    }
  },
  "cells": [
    {
      "cell_type": "markdown",
      "metadata": {
        "id": "view-in-github",
        "colab_type": "text"
      },
      "source": [
        "<a href=\"https://colab.research.google.com/github/King-of-Haskul/Machine-Learning-And-Data-Science/blob/main/RNN_1.ipynb\" target=\"_parent\"><img src=\"https://colab.research.google.com/assets/colab-badge.svg\" alt=\"Open In Colab\"/></a>"
      ]
    },
    {
      "cell_type": "markdown",
      "metadata": {
        "id": "_v3OtXZF9K23"
      },
      "source": [
        "### Numpy implementation of a simple RNN"
      ]
    },
    {
      "cell_type": "code",
      "metadata": {
        "id": "rR0t13ml9Iis"
      },
      "source": [
        "import numpy as np\n",
        "\n",
        "timesteps = 100  #number of timesteps in the input sequence\n",
        "input_features = 32  #Dimensionality of the input feature space\n",
        "output_features = 64  #Dimensionality of the output feature space\n",
        "\n",
        "inputs = np.random.random((timesteps, input_features))  #Input data: random noise for the sake of the example\n",
        "\n",
        "state_t = np.zeros((output_features, )) #Initial state: an all-zero vector\n",
        "\n",
        "#Inititializing ranodm weight matrcies\n",
        "W = np.random.random((output_features, input_features)) \n",
        "U = np.random.random((output_features, output_features))\n",
        "b = np.random.random((output_features, ))\n",
        "\n",
        "successive_outputs = []\n",
        "for input_t in inputs:   #input_t is a vector of shape(input_features, )\n",
        "  output_t = np.tanh(np.dot(W, input_t) + np.dot(U, state_t) + b)\n",
        "\n",
        "  successive_outputs.append(output_t)\n",
        "\n",
        "  state_t = output_t\n",
        "\n",
        "final_output_sequence = np.concatenate(successive_outputs, axis = 0) #The final output is a 2D tensor of shape (timestaps, output_features) "
      ],
      "execution_count": 6,
      "outputs": []
    },
    {
      "cell_type": "markdown",
      "metadata": {
        "id": "9sW3-czkBMcb"
      },
      "source": [
        "### Recurrent layer in Keras"
      ]
    },
    {
      "cell_type": "code",
      "metadata": {
        "colab": {
          "base_uri": "https://localhost:8080/"
        },
        "id": "xhkv2tsPAKAq",
        "outputId": "cc43546b-5096-441a-f09a-2538eb377c61"
      },
      "source": [
        "from tensorflow.keras.models import Sequential\n",
        "from tensorflow.keras.layers import Embedding, SimpleRNN\n",
        "\n",
        "model = Sequential()\n",
        "model.add(Embedding(10000, 32))\n",
        "model.add(SimpleRNN(32))\n",
        "model.summary()"
      ],
      "execution_count": 7,
      "outputs": [
        {
          "output_type": "stream",
          "text": [
            "Model: \"sequential\"\n",
            "_________________________________________________________________\n",
            "Layer (type)                 Output Shape              Param #   \n",
            "=================================================================\n",
            "embedding (Embedding)        (None, None, 32)          320000    \n",
            "_________________________________________________________________\n",
            "simple_rnn (SimpleRNN)       (None, 32)                2080      \n",
            "=================================================================\n",
            "Total params: 322,080\n",
            "Trainable params: 322,080\n",
            "Non-trainable params: 0\n",
            "_________________________________________________________________\n"
          ],
          "name": "stdout"
        }
      ]
    },
    {
      "cell_type": "code",
      "metadata": {
        "colab": {
          "base_uri": "https://localhost:8080/"
        },
        "id": "nfRubuSYBqkc",
        "outputId": "41d0071d-2595-42a0-d88b-e8e01153aa28"
      },
      "source": [
        "#Model that returns the full state sequence: shape (batch_size, timestaps, output_features)\n",
        "model = Sequential()\n",
        "model.add(Embedding(10000, 32))\n",
        "model.add(SimpleRNN(32, return_sequences=True))\n",
        "model.summary()"
      ],
      "execution_count": 10,
      "outputs": [
        {
          "output_type": "stream",
          "text": [
            "Model: \"sequential_1\"\n",
            "_________________________________________________________________\n",
            "Layer (type)                 Output Shape              Param #   \n",
            "=================================================================\n",
            "embedding_1 (Embedding)      (None, None, 32)          320000    \n",
            "_________________________________________________________________\n",
            "simple_rnn_1 (SimpleRNN)     (None, None, 32)          2080      \n",
            "=================================================================\n",
            "Total params: 322,080\n",
            "Trainable params: 322,080\n",
            "Non-trainable params: 0\n",
            "_________________________________________________________________\n"
          ],
          "name": "stdout"
        }
      ]
    },
    {
      "cell_type": "markdown",
      "metadata": {
        "id": "-HqCU7hhCSPx"
      },
      "source": [
        "#### Stacking several recurrent layers\n",
        "\n"
      ]
    },
    {
      "cell_type": "code",
      "metadata": {
        "colab": {
          "base_uri": "https://localhost:8080/"
        },
        "id": "cbg--_luB2p-",
        "outputId": "fb32bffa-191d-4ec3-923a-57b98f175c74"
      },
      "source": [
        "model = Sequential()\n",
        "model.add(Embedding(10000, 32))\n",
        "model.add(SimpleRNN(32, return_sequences=True)) #All of the intermediate recurrent layers must return full sequences so as to stack them\n",
        "model.add(SimpleRNN(32, return_sequences=True))\n",
        "model.add(SimpleRNN(32, return_sequences=True))\n",
        "model.add(SimpleRNN(32))\n",
        "model.summary()"
      ],
      "execution_count": 12,
      "outputs": [
        {
          "output_type": "stream",
          "text": [
            "Model: \"sequential_3\"\n",
            "_________________________________________________________________\n",
            "Layer (type)                 Output Shape              Param #   \n",
            "=================================================================\n",
            "embedding_3 (Embedding)      (None, None, 32)          320000    \n",
            "_________________________________________________________________\n",
            "simple_rnn_6 (SimpleRNN)     (None, None, 32)          2080      \n",
            "_________________________________________________________________\n",
            "simple_rnn_7 (SimpleRNN)     (None, None, 32)          2080      \n",
            "_________________________________________________________________\n",
            "simple_rnn_8 (SimpleRNN)     (None, None, 32)          2080      \n",
            "_________________________________________________________________\n",
            "simple_rnn_9 (SimpleRNN)     (None, 32)                2080      \n",
            "=================================================================\n",
            "Total params: 328,320\n",
            "Trainable params: 328,320\n",
            "Non-trainable params: 0\n",
            "_________________________________________________________________\n"
          ],
          "name": "stdout"
        }
      ]
    },
    {
      "cell_type": "markdown",
      "metadata": {
        "id": "B4cX273VC5lx"
      },
      "source": [
        "### Using Simple RNN on the IMDB movie-review-classification problem"
      ]
    },
    {
      "cell_type": "code",
      "metadata": {
        "colab": {
          "base_uri": "https://localhost:8080/"
        },
        "id": "0pTrmMWYCivN",
        "outputId": "8b729e2e-8f3d-481b-f717-af1e818d2c13"
      },
      "source": [
        "#Preprocessing IMDB data\n",
        "from tensorflow.keras.datasets import imdb\n",
        "from tensorflow.keras.preprocessing import sequence\n",
        "\n",
        "max_features = 10000 #Number of words to consider as features\n",
        "maxlen = 500         #Cuts off texts after this many words (among the max_features most common words)\n",
        "batch_size = 32\n",
        "\n",
        "print('Loading data...')\n",
        "(input_train, y_train), (input_test, y_test) = imdb.load_data(num_words = max_features)\n",
        "print(len(input_train), 'train sequences')\n",
        "print(len(input_test), 'test sequences')\n",
        "\n",
        "print('Pad sequences (samples x time)')\n",
        "input_train = sequence.pad_sequences(input_train, maxlen=maxlen)\n",
        "input_test = sequence.pad_sequences(input_test, maxlen=maxlen)\n",
        "print('input_train shape: ', input_train.shape)\n",
        "print('input_test shape: ', input_test.shape)"
      ],
      "execution_count": 14,
      "outputs": [
        {
          "output_type": "stream",
          "text": [
            "Loading data...\n"
          ],
          "name": "stdout"
        },
        {
          "output_type": "stream",
          "text": [
            "<string>:6: VisibleDeprecationWarning: Creating an ndarray from ragged nested sequences (which is a list-or-tuple of lists-or-tuples-or ndarrays with different lengths or shapes) is deprecated. If you meant to do this, you must specify 'dtype=object' when creating the ndarray\n",
            "/usr/local/lib/python3.7/dist-packages/tensorflow/python/keras/datasets/imdb.py:155: VisibleDeprecationWarning: Creating an ndarray from ragged nested sequences (which is a list-or-tuple of lists-or-tuples-or ndarrays with different lengths or shapes) is deprecated. If you meant to do this, you must specify 'dtype=object' when creating the ndarray\n",
            "  x_train, y_train = np.array(xs[:idx]), np.array(labels[:idx])\n",
            "/usr/local/lib/python3.7/dist-packages/tensorflow/python/keras/datasets/imdb.py:156: VisibleDeprecationWarning: Creating an ndarray from ragged nested sequences (which is a list-or-tuple of lists-or-tuples-or ndarrays with different lengths or shapes) is deprecated. If you meant to do this, you must specify 'dtype=object' when creating the ndarray\n",
            "  x_test, y_test = np.array(xs[idx:]), np.array(labels[idx:])\n"
          ],
          "name": "stderr"
        },
        {
          "output_type": "stream",
          "text": [
            "25000 train sequences\n",
            "25000 test sequences\n",
            "Pad sequences (samples x time)\n",
            "input_train shape:  (25000, 500)\n",
            "input_test shape:  (25000, 500)\n"
          ],
          "name": "stdout"
        }
      ]
    },
    {
      "cell_type": "code",
      "metadata": {
        "colab": {
          "base_uri": "https://localhost:8080/"
        },
        "id": "jtoRVyHuVm-0",
        "outputId": "b5fc8861-386a-4df4-c713-8e32faef408d"
      },
      "source": [
        "#Training the model with Embedding and SimpleRNN layers\n",
        "from tensorflow.keras.layers import Dense\n",
        "\n",
        "model = Sequential()\n",
        "model.add(Embedding(max_features, 32))\n",
        "model.add(SimpleRNN(32))\n",
        "model.add(Dense(1, activation='sigmoid'))\n",
        "\n",
        "model.compile(optimizer='rmsprop', loss='binary_crossentropy', metrics=['accuracy'])\n",
        "history = model.fit(input_train, y_train, epochs=10, batch_size=128, validation_split=0.2)"
      ],
      "execution_count": 17,
      "outputs": [
        {
          "output_type": "stream",
          "text": [
            "Epoch 1/10\n",
            "157/157 [==============================] - 25s 149ms/step - loss: 0.6428 - accuracy: 0.6228 - val_loss: 0.5005 - val_accuracy: 0.7892\n",
            "Epoch 2/10\n",
            "157/157 [==============================] - 23s 144ms/step - loss: 0.4173 - accuracy: 0.8205 - val_loss: 0.4209 - val_accuracy: 0.8242\n",
            "Epoch 3/10\n",
            "157/157 [==============================] - 23s 144ms/step - loss: 0.3086 - accuracy: 0.8728 - val_loss: 0.4341 - val_accuracy: 0.7980\n",
            "Epoch 4/10\n",
            "157/157 [==============================] - 22s 143ms/step - loss: 0.2377 - accuracy: 0.9097 - val_loss: 0.3980 - val_accuracy: 0.8422\n",
            "Epoch 5/10\n",
            "157/157 [==============================] - 22s 143ms/step - loss: 0.1814 - accuracy: 0.9319 - val_loss: 0.4013 - val_accuracy: 0.8348\n",
            "Epoch 6/10\n",
            "157/157 [==============================] - 23s 144ms/step - loss: 0.1375 - accuracy: 0.9504 - val_loss: 0.5381 - val_accuracy: 0.7748\n",
            "Epoch 7/10\n",
            "157/157 [==============================] - 22s 143ms/step - loss: 0.0947 - accuracy: 0.9680 - val_loss: 0.4870 - val_accuracy: 0.8230\n",
            "Epoch 8/10\n",
            "157/157 [==============================] - 23s 144ms/step - loss: 0.0610 - accuracy: 0.9804 - val_loss: 0.4811 - val_accuracy: 0.8418\n",
            "Epoch 9/10\n",
            "157/157 [==============================] - 23s 143ms/step - loss: 0.0362 - accuracy: 0.9895 - val_loss: 0.6056 - val_accuracy: 0.8172\n",
            "Epoch 10/10\n",
            "157/157 [==============================] - 22s 143ms/step - loss: 0.0288 - accuracy: 0.9924 - val_loss: 0.5881 - val_accuracy: 0.8450\n"
          ],
          "name": "stdout"
        }
      ]
    },
    {
      "cell_type": "code",
      "metadata": {
        "id": "INJd6VfUWTUR"
      },
      "source": [
        "#Plotting results\n",
        "import matplotlib.pyplot as plt\n",
        "def plot_results(history):\n",
        "  acc = history.history['accuracy']\n",
        "  val_acc = history.history['val_accuracy']\n",
        "  loss = history.history['loss']\n",
        "  val_loss = history.history['val_loss']\n",
        "\n",
        "  epochs = range(1, len(acc) + 1)\n",
        "\n",
        "  plt.plot(epochs, acc, 'bo', label='Training accuracy')\n",
        "  plt.plot(epochs, val_acc, 'b', label='Validaiton accuracy')\n",
        "  plt.title('Training and Vaidation accuracy')\n",
        "  plt.legend()\n",
        "\n",
        "  plt.figure()\n",
        "\n",
        "  plt.plot(epochs, loss, 'bo', label='Training loss')\n",
        "  plt.plot(epochs, val_loss, 'b', label='Validation loss')\n",
        "  plt.title('Training and validation loss')\n",
        "  plt.legend()\n",
        "\n",
        "  plt.show()"
      ],
      "execution_count": 21,
      "outputs": []
    },
    {
      "cell_type": "markdown",
      "metadata": {
        "id": "xkyWv5m-hinK"
      },
      "source": [
        "### LSTM layer (Long short term Memory)"
      ]
    },
    {
      "cell_type": "code",
      "metadata": {
        "colab": {
          "base_uri": "https://localhost:8080/"
        },
        "id": "Q6V3SBkSYLg-",
        "outputId": "3e66e253-61a1-4be3-8468-66a5bbf9b3cd"
      },
      "source": [
        "from tensorflow.keras.layers import LSTM\n",
        "\n",
        "model = Sequential()\n",
        "model.add(Embedding(max_features, 32))\n",
        "model.add(LSTM(32))\n",
        "model.add(Dense(1, activation='sigmoid'))\n",
        "\n",
        "model.compile(optimizer='rmsprop', loss='binary_crossentropy', metrics=['accuracy'])\n",
        "history = model.fit(input_train, y_train, epochs=10, batch_size=128, validation_split=0.2)"
      ],
      "execution_count": 20,
      "outputs": [
        {
          "output_type": "stream",
          "text": [
            "Epoch 1/10\n",
            "157/157 [==============================] - 52s 319ms/step - loss: 0.4940 - accuracy: 0.7663 - val_loss: 0.3750 - val_accuracy: 0.8414\n",
            "Epoch 2/10\n",
            "157/157 [==============================] - 50s 316ms/step - loss: 0.2831 - accuracy: 0.8882 - val_loss: 0.2807 - val_accuracy: 0.8924\n",
            "Epoch 3/10\n",
            "157/157 [==============================] - 50s 317ms/step - loss: 0.2295 - accuracy: 0.9132 - val_loss: 0.3544 - val_accuracy: 0.8492\n",
            "Epoch 4/10\n",
            "157/157 [==============================] - 50s 317ms/step - loss: 0.2019 - accuracy: 0.9251 - val_loss: 0.2905 - val_accuracy: 0.8756\n",
            "Epoch 5/10\n",
            "157/157 [==============================] - 51s 322ms/step - loss: 0.1720 - accuracy: 0.9400 - val_loss: 0.3419 - val_accuracy: 0.8890\n",
            "Epoch 6/10\n",
            "157/157 [==============================] - 51s 325ms/step - loss: 0.1629 - accuracy: 0.9403 - val_loss: 0.3152 - val_accuracy: 0.8730\n",
            "Epoch 7/10\n",
            "157/157 [==============================] - 51s 326ms/step - loss: 0.1432 - accuracy: 0.9488 - val_loss: 0.4056 - val_accuracy: 0.8690\n",
            "Epoch 8/10\n",
            "157/157 [==============================] - 50s 321ms/step - loss: 0.1342 - accuracy: 0.9538 - val_loss: 0.3234 - val_accuracy: 0.8874\n",
            "Epoch 9/10\n",
            "157/157 [==============================] - 50s 317ms/step - loss: 0.1229 - accuracy: 0.9570 - val_loss: 0.3255 - val_accuracy: 0.8730\n",
            "Epoch 10/10\n",
            "157/157 [==============================] - 50s 318ms/step - loss: 0.1179 - accuracy: 0.9596 - val_loss: 0.3624 - val_accuracy: 0.8818\n"
          ],
          "name": "stdout"
        }
      ]
    },
    {
      "cell_type": "code",
      "metadata": {
        "colab": {
          "base_uri": "https://localhost:8080/",
          "height": 545
        },
        "id": "cMOKZ8pbiDKI",
        "outputId": "0b463bf5-52d0-49c6-9775-14685dce8b03"
      },
      "source": [
        "plot_results(history)"
      ],
      "execution_count": 22,
      "outputs": [
        {
          "output_type": "display_data",
          "data": {
            "image/png": "[encoded data removed]",
            "text/plain": [
              "<Figure size 432x288 with 1 Axes>"
            ]
          },
          "metadata": {
            "tags": [],
            "needs_background": "light"
          }
        },
        {
          "output_type": "display_data",
          "data": {
            "image/png": "[encoded data removed]",
            "text/plain": [
              "<Figure size 432x288 with 1 Axes>"
            ]
          },
          "metadata": {
            "tags": [],
            "needs_background": "light"
          }
        }
      ]
    },
    {
      "cell_type": "code",
      "metadata": {
        "id": "wVuP5n4_kTfA"
      },
      "source": [
        ""
      ],
      "execution_count": null,
      "outputs": []
    }
  ]
}